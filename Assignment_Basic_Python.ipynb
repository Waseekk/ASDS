{
  "nbformat": 4,
  "nbformat_minor": 0,
  "metadata": {
    "colab": {
      "provenance": [],
      "authorship_tag": "ABX9TyMOqSB11IaJATkVnzznJO13",
      "include_colab_link": true
    },
    "kernelspec": {
      "name": "python3",
      "display_name": "Python 3"
    },
    "language_info": {
      "name": "python"
    }
  },
  "cells": [
    {
      "cell_type": "markdown",
      "metadata": {
        "id": "view-in-github",
        "colab_type": "text"
      },
      "source": [
        "<a href=\"https://colab.research.google.com/github/Waseekk/ASDS/blob/main/Assignment_Basic_Python.ipynb\" target=\"_parent\"><img src=\"https://colab.research.google.com/assets/colab-badge.svg\" alt=\"Open In Colab\"/></a>"
      ]
    },
    {
      "cell_type": "code",
      "execution_count": null,
      "metadata": {
        "colab": {
          "base_uri": "https://localhost:8080/"
        },
        "id": "Wya9mdRJmYPS",
        "outputId": "02b6a53f-0742-4323-f74c-61c6f4ef01d9"
      },
      "outputs": [
        {
          "output_type": "stream",
          "name": "stdout",
          "text": [
            "Enter a string:we\n",
            "{'w': 1, 'e': 1}\n"
          ]
        }
      ],
      "source": [
        "## Irtefa Waseek   ID: 20229012\n",
        "\n",
        "#1 Write a Python program to count the number of characters (character frequency) in a string.\n",
        "string=input('Enter a string:')\n",
        "frequency={}\n",
        "for char in string:\n",
        "  if char in frequency:\n",
        "    frequency[char]+=1\n",
        "  else:\n",
        "    frequency[char]=1\n",
        "\n",
        "print(frequency)\n"
      ]
    },
    {
      "cell_type": "code",
      "source": [
        "#2 Write a Python program to check if a given key already exists in a dictionary.\n",
        "\n",
        "my_dict = {'Name': 'JU', 'Department': 'Statistic', 'Program': 'Masters', 'Batch': 9}\n",
        "\n",
        "key = 'Waseek'\n",
        "\n",
        "if key in my_dict:\n",
        "    print(f\"The key '{key}' exists in the dictionary.\")\n",
        "else:\n",
        "    print(f\"The key '{key}' does not exist in the dictionary.\")"
      ],
      "metadata": {
        "colab": {
          "base_uri": "https://localhost:8080/"
        },
        "id": "AAggkfngn-NP",
        "outputId": "f084c30d-33dd-4f2c-9949-657b6b7e23b7"
      },
      "execution_count": null,
      "outputs": [
        {
          "output_type": "stream",
          "name": "stdout",
          "text": [
            "The key 'Waseek' does not exist in the dictionary.\n"
          ]
        }
      ]
    },
    {
      "cell_type": "code",
      "source": [
        "#3 Write a Python program that accepts a sequence of comma-separated numbers from the user and generates a list and a tuple of those numbers.\n",
        "\n",
        "num_string = input(\"Enter comma-separated numbers: \")\n",
        "num_list = num_string.split(\",\")\n",
        "num_tuple = tuple(num_list)\n",
        "\n",
        "print(\"List: \", num_list)\n",
        "print(\"Tuple: \", num_tuple)\n"
      ],
      "metadata": {
        "colab": {
          "base_uri": "https://localhost:8080/"
        },
        "id": "X8jVXYoaq69F",
        "outputId": "cd764dab-06db-4946-cbd7-2744794ba35a"
      },
      "execution_count": null,
      "outputs": [
        {
          "output_type": "stream",
          "name": "stdout",
          "text": [
            "Enter comma-separated numbers: 4,5,6,6,7,7,8,8\n",
            "List:  ['4', '5', '6', '6', '7', '7', '8', '8']\n",
            "Tuple:  ('4', '5', '6', '6', '7', '7', '8', '8')\n"
          ]
        }
      ]
    },
    {
      "cell_type": "code",
      "source": [
        "#4 Write a Python program to calculate the number of days between two dates.\n",
        "from datetime import datetime\n",
        "\n",
        "date1_i=input('Enter the first date(YYYY-MM-DD)')\n",
        "date2_i=input('Enter the second date(YYYY-MM-DD)')\n",
        "\n",
        "date1 = datetime.strptime(date1_i, \"%Y-%m-%d\")\n",
        "date2 = datetime.strptime(date2_i, \"%Y-%m-%d\")\n",
        "\n",
        "days= date1-date2\n",
        "print(days)"
      ],
      "metadata": {
        "colab": {
          "base_uri": "https://localhost:8080/"
        },
        "id": "kGmUao3qtGNR",
        "outputId": "4786651c-c48b-44b2-ca7e-309fa7cea225"
      },
      "execution_count": null,
      "outputs": [
        {
          "output_type": "stream",
          "name": "stdout",
          "text": [
            "Enter the first date(YYYY-MM-DD)2021-12-1\n",
            "Enter the second date(YYYY-MM-DD)2021-12-4\n",
            "-3 days, 0:00:00\n"
          ]
        }
      ]
    },
    {
      "cell_type": "code",
      "source": [
        "#4_2 Write a Python program to calculate the number of days between two dates.(more user friendly)\n",
        "import datetime\n",
        "\n",
        "date1_i = input('Enter the first date (YYYY,MM,DD): ')\n",
        "date2_i = input('Enter the second date (YYYY,MM,DD): ')\n",
        "\n",
        "date1 = datetime.date(*map(int, date1_i.split(',')))\n",
        "date2 = datetime.date(*map(int, date2_i.split(',')))\n",
        "\n",
        "days = abs(date1 - date2).days\n",
        "print(f'The number of days between {date1} and {date2} is {days} days.')"
      ],
      "metadata": {
        "colab": {
          "base_uri": "https://localhost:8080/"
        },
        "id": "gS9K8o3Ltx5h",
        "outputId": "fe156dbd-c3e5-4fbb-b7c7-e3936df9951e"
      },
      "execution_count": null,
      "outputs": [
        {
          "output_type": "stream",
          "name": "stdout",
          "text": [
            "Enter the first date (YYYY,MM,DD): 2022,12,12\n",
            "Enter the second date (YYYY,MM,DD): 2025,12,1\n",
            "The number of days between 2022-12-12 and 2025-12-01 is 1085 days.\n"
          ]
        }
      ]
    },
    {
      "cell_type": "code",
      "source": [
        "#5 Write a Python program to solve (x + y) * (x + y).\n",
        "x = float(input(\"Enter the value of x: \"))\n",
        "y = float(input(\"Enter the value of y: \"))\n",
        "\n",
        "result = (x + y) ** 2\n",
        "print(\"Result:\", result)\n"
      ],
      "metadata": {
        "colab": {
          "base_uri": "https://localhost:8080/"
        },
        "id": "30hrldru_njk",
        "outputId": "47df94dc-b9c5-4f2c-85c4-58fde604be71"
      },
      "execution_count": null,
      "outputs": [
        {
          "output_type": "stream",
          "name": "stdout",
          "text": [
            "Enter the value of x: 5\n",
            "Enter the value of y: 6\n",
            "Result: 121.0\n"
          ]
        }
      ]
    },
    {
      "cell_type": "code",
      "source": [
        "#6 principal value calculation\n",
        "def future_value(principal_amount,interest_rate,num_years):\n",
        "   future_value=principal_amount*(1+interest_rate/100)**num_years\n",
        "   return future_value\n",
        "\n",
        "principal_amount = 10000\n",
        "interest_rate = 3.5\n",
        "num_years = 7\n",
        "\n",
        "fv = future_value(principal_amount, interest_rate, num_years)\n",
        "\n",
        "print(f\"The future value of ${principal_amount} at {interest_rate}% interest for {num_years} years is ${fv:.2f}\")"
      ],
      "metadata": {
        "colab": {
          "base_uri": "https://localhost:8080/"
        },
        "id": "Nzhqq5F60X7-",
        "outputId": "81f2118f-15b1-4d5c-efcb-3f601378665f"
      },
      "execution_count": null,
      "outputs": [
        {
          "output_type": "stream",
          "name": "stdout",
          "text": [
            "The future value of $10000 at 3.5% interest for 7 years is $12722.79\n"
          ]
        }
      ]
    },
    {
      "cell_type": "code",
      "source": [
        "#7 Write a Python program that removes duplicate elements from a given array of numbers so that each element appears only once and\n",
        "#returns the new length of the array.\n",
        "def remove_duplicates(arr):\n",
        "    \"\"\"\n",
        "    Removes duplicate elements from an array of numbers and returns the new list and the number of unique elements\n",
        "    \"\"\"\n",
        "    unique_set = set(arr)\n",
        "    unique_arr = list(unique_set)\n",
        "    return unique_arr, len(unique_arr)\n",
        "\n",
        "# Example usage\n",
        "nums = [1, 2, 3, 4, 5, 3, 4, 6, 7, 8, 5, 'apple', 'apple']\n",
        "unique_nums, num_unique = remove_duplicates(nums)\n",
        "\n",
        "print(f\"The new list with duplicates removed is {unique_nums}\")\n",
        "print(f\"The number of unique elements is {num_unique}\")"
      ],
      "metadata": {
        "colab": {
          "base_uri": "https://localhost:8080/"
        },
        "id": "XkWNj3iYDO_N",
        "outputId": "cff9ab00-a634-4517-cbda-0f8c07abaca9"
      },
      "execution_count": null,
      "outputs": [
        {
          "output_type": "stream",
          "name": "stdout",
          "text": [
            "The new list with duplicates removed is [1, 2, 3, 4, 5, 6, 7, 8, 'apple']\n",
            "The number of unique elements is 9\n"
          ]
        }
      ]
    },
    {
      "cell_type": "code",
      "source": [
        "#8 Write a Python program to sort (ascending and descending) a dictionary by key value.\n",
        "d = {'banana': 3, 'apple': 2, 'pear': 4, 'orange': 1}\n",
        "\n",
        "sorted_dict = sorted(d.items())\n",
        "\n",
        "sorted_dict_desc = (sorted(d.items(), reverse=True))\n",
        "\n",
        "print(\"Ascending order:\", sorted_dict)\n",
        "print(\"Descending order:\", sorted_dict_desc)"
      ],
      "metadata": {
        "colab": {
          "base_uri": "https://localhost:8080/"
        },
        "id": "9CknxfX7Gbh7",
        "outputId": "a3677838-85df-4793-971f-4792bb5bc993"
      },
      "execution_count": null,
      "outputs": [
        {
          "output_type": "stream",
          "name": "stdout",
          "text": [
            "Ascending order: [('apple', 2), ('banana', 3), ('orange', 1), ('pear', 4)]\n",
            "Descending order: [('pear', 4), ('orange', 1), ('banana', 3), ('apple', 2)]\n"
          ]
        }
      ]
    },
    {
      "cell_type": "code",
      "source": [
        "#9. Write a Python program to add key to a dictionary. Go to the editor\n",
        "d = {0: 10, 1: 20}\n",
        "\n",
        "key_input = input(\"Enter a key: \")\n",
        "value_input = input(\"Enter a value: \")\n",
        "\n",
        "try:\n",
        "    key = int(key_input)\n",
        "except ValueError:\n",
        "    key = key_input\n",
        "    \n",
        "try:\n",
        "    value = int(value_input)\n",
        "except ValueError:\n",
        "    value = value_input\n",
        "\n",
        "d[key] = value\n",
        "print(d)"
      ],
      "metadata": {
        "colab": {
          "base_uri": "https://localhost:8080/"
        },
        "id": "QoG5bTz6HkfI",
        "outputId": "f521b741-6c07-46d7-b2e2-39c8df95b692"
      },
      "execution_count": null,
      "outputs": [
        {
          "output_type": "stream",
          "name": "stdout",
          "text": [
            "Enter a key: trg\n",
            "Enter a value: 4\n",
            "{0: 10, 1: 20, 'trg': 4}\n"
          ]
        }
      ]
    },
    {
      "cell_type": "code",
      "source": [
        "#10 Write a Pandas program to create and display a DataFrame from a specified dictionary data which has the index labels.\n",
        "import numpy as np\n",
        "import pandas as pd\n",
        "exam_data = {'name': ['Arif', 'Asir', 'Arik', 'Anis', 'Anil', 'Ashish', 'Anahi', 'Alia', 'Alvin', 'Asim'],\n",
        "             'score': [12.5, 9, 16.5, np.nan, 9, 20, 14.5, np.nan, 8, 19],\n",
        "             'attempts': [1, 3, 2, 3, 2, 3, 1, 1, 2, 1],\n",
        "             'qualify': ['yes', 'no', 'yes', 'no', 'no', 'yes', 'yes', 'no', 'no', 'yes']}\n",
        "\n",
        "\n",
        "labels = ['a', 'b', 'c', 'd', 'e', 'f', 'g', 'h', 'i', 'j']\n",
        "\n",
        "\n",
        "df = pd.DataFrame(exam_data, index=labels)\n",
        "\n",
        "print(df)"
      ],
      "metadata": {
        "colab": {
          "base_uri": "https://localhost:8080/"
        },
        "id": "6X-mXPUSKJjU",
        "outputId": "e84e4ca7-a932-4a57-ee43-6d25c73fe416"
      },
      "execution_count": null,
      "outputs": [
        {
          "output_type": "stream",
          "name": "stdout",
          "text": [
            "     name  score  attempts qualify\n",
            "a    Arif   12.5         1     yes\n",
            "b    Asir    9.0         3      no\n",
            "c    Arik   16.5         2     yes\n",
            "d    Anis    NaN         3      no\n",
            "e    Anil    9.0         2      no\n",
            "f  Ashish   20.0         3     yes\n",
            "g   Anahi   14.5         1     yes\n",
            "h    Alia    NaN         1      no\n",
            "i   Alvin    8.0         2      no\n",
            "j    Asim   19.0         1     yes\n"
          ]
        }
      ]
    },
    {
      "cell_type": "code",
      "source": [],
      "metadata": {
        "id": "r7wEGAg1MNDK"
      },
      "execution_count": null,
      "outputs": []
    }
  ]
}